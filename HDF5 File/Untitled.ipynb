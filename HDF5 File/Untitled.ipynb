{
 "cells": [
  {
   "cell_type": "code",
   "execution_count": 2,
   "id": "b447f676",
   "metadata": {},
   "outputs": [],
   "source": [
    "import numpy as np\n",
    "import h5py\n"
   ]
  },
  {
   "cell_type": "code",
   "execution_count": 3,
   "id": "4015049e",
   "metadata": {},
   "outputs": [],
   "source": [
    "def CreateHdf5(name):\n",
    "    with h5py.File('C:/Users/NINE-RELAP-MELCOR/Desktop/Hdf/' + name + '.hdf5', 'w') as hdf:\n",
    "        hdf.create_dataset('dataset1', data=matrix1)\n",
    "        hdf.create_dataset('dataset2', data=matrix2)\n",
    "        "
   ]
  },
  {
   "cell_type": "code",
   "execution_count": 5,
   "id": "b7921e99",
   "metadata": {},
   "outputs": [
    {
     "name": "stdin",
     "output_type": "stream",
     "text": [
      "insert file name:  ciao\n"
     ]
    }
   ],
   "source": [
    "matrix1 = np.random.random(size = (1000, 1000))\n",
    "matrix2 = np.random.random(size = (10000, 100))\n",
    "\n",
    "name = input(\"insert file name: \")\n",
    "CreateHdf5(name)\n"
   ]
  },
  {
   "cell_type": "code",
   "execution_count": null,
   "id": "2af9d360",
   "metadata": {},
   "outputs": [],
   "source": []
  }
 ],
 "metadata": {
  "kernelspec": {
   "display_name": "Python 3",
   "language": "python",
   "name": "python3"
  },
  "language_info": {
   "codemirror_mode": {
    "name": "ipython",
    "version": 3
   },
   "file_extension": ".py",
   "mimetype": "text/x-python",
   "name": "python",
   "nbconvert_exporter": "python",
   "pygments_lexer": "ipython3",
   "version": "3.6.8"
  }
 },
 "nbformat": 4,
 "nbformat_minor": 5
}
