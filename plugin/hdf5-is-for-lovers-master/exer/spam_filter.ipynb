{
 "metadata": {
  "name": "spam_filter"
 },
 "nbformat": 3,
 "nbformat_minor": 0,
 "worksheets": [
  {
   "cells": [
    {
     "cell_type": "markdown",
     "metadata": {},
     "source": [
      "**Email today is just the worst.  It seems that 3/4 of time, the message is just \n",
      "total junk while only 25% of emails are actually worthwhile.**\n",
      "\n",
      "Somehow It is now your job to eliminate all of that spam for everyone at work, \n",
      "leaving behind only the eggy goodness. You suspect compression might be able to\n",
      "aid you in your quest.\n",
      "\n",
      "1. Create an HDF5 file which contains a single emails array, uncompressed.  \n",
      "   Close this file and use the getsize() function to report the size on disk.\n",
      "   Time how long this took and print that out as well.\n",
      "\n",
      "2. Repeat step 1 but with zlib compression at level 1.\n",
      "\n",
      "3. Repeat step 1 but with blosc compression at level 5.\n",
      "\n",
      "4. You realize that spam is often vacuous.  What if the unwanted elements\n",
      "   weren't already tagged.  Repeat step 1, leaving the data uncompressed\n",
      "   but without filling in spam everywhere.\n",
      "\n",
      "5. Repeat step 4 but with blosc compression at level 5.\n",
      "\n",
      "6. How long does it take to read these arrays in?"
     ]
    },
    {
     "cell_type": "code",
     "collapsed": false,
     "input": [
      "from time import time\n",
      "from os.path import getsize\n",
      "\n",
      "import numpy as np\n",
      "import tables as tb\n",
      "\n",
      "def email_array(num=10000000, rate=0.75, fill=True):\n",
      "    if fill:\n",
      "        emails = np.empty(10000000, 'S4')\n",
      "        emails.fill('spam')\n",
      "    else:\n",
      "        emails = np.array([np.random.bytes(4) for x in range(num)], dtype='S4')\n",
      "    eggind = np.random.randint(0, num, int(num * (1.0 - rate)))\n",
      "    emails[eggind] = 'eggs'\n",
      "    return emails"
     ],
     "language": "python",
     "metadata": {},
     "outputs": []
    },
    {
     "cell_type": "markdown",
     "metadata": {},
     "source": [
      "**1. Create an HDF5 file which contains a single emails array, uncompressed. Close this file and use the getsize() function to report the size on disk.\n",
      "Time how long this took and print that out as well.**"
     ]
    },
    {
     "cell_type": "code",
     "collapsed": false,
     "input": [],
     "language": "python",
     "metadata": {},
     "outputs": []
    },
    {
     "cell_type": "markdown",
     "metadata": {},
     "source": [
      "**2. Repeat step 1 but with zlib compression at level 1.**"
     ]
    },
    {
     "cell_type": "code",
     "collapsed": false,
     "input": [],
     "language": "python",
     "metadata": {},
     "outputs": []
    },
    {
     "cell_type": "markdown",
     "metadata": {},
     "source": [
      "**3. Repeat step 1 but with blosc compression at level 5.**"
     ]
    },
    {
     "cell_type": "code",
     "collapsed": false,
     "input": [],
     "language": "python",
     "metadata": {},
     "outputs": []
    },
    {
     "cell_type": "markdown",
     "metadata": {},
     "source": [
      "**4. You realize that spam is often vacuous.  What if the unwanted elements\n",
      "weren't already tagged.  Repeat step 1, leaving the data uncompressed\n",
      "but without filling in spam everywhere.**"
     ]
    },
    {
     "cell_type": "code",
     "collapsed": false,
     "input": [],
     "language": "python",
     "metadata": {},
     "outputs": []
    },
    {
     "cell_type": "markdown",
     "metadata": {},
     "source": [
      "**5. Repeat step 4 but with blosc compression at level 5.**"
     ]
    },
    {
     "cell_type": "code",
     "collapsed": false,
     "input": [],
     "language": "python",
     "metadata": {},
     "outputs": []
    },
    {
     "cell_type": "markdown",
     "metadata": {},
     "source": [
      "**6. How long does it take to read this data in?**"
     ]
    },
    {
     "cell_type": "code",
     "collapsed": false,
     "input": [],
     "language": "python",
     "metadata": {},
     "outputs": []
    }
   ],
   "metadata": {}
  }
 ]
}