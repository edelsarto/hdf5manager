{
 "metadata": {
  "name": "peaks_of_kilimanjaro"
 },
 "nbformat": 3,
 "nbformat_minor": 0,
 "worksheets": [
  {
   "cells": [
    {
     "cell_type": "markdown",
     "metadata": {},
     "source": [
      "**Your brother is going on an expidition to build a bridge between the two\n",
      "peaks of Mount Kilimanjaro.  He needs you to create a database of information \n",
      "about the team.  This needs to include:**\n",
      "\n",
      "I. A table of critical team member information.\n",
      "\n",
      "II. An array of oxygen depravation fraction (to be filled in later)\n",
      "    for everyone team member for each of the million steps up the mountain.\n",
      "\n",
      "The info he has about the team is their first name, last name, age, and \n",
      "whether they are alive or not.\n",
      "\n",
      "Suddenly, he has forgotten the first half of team's names.  \n",
      "\n",
      "III. Please read these off for him.\n",
      "\n",
      "Careful out there!"
     ]
    },
    {
     "cell_type": "code",
     "collapsed": false,
     "input": [
      "import numpy as np\n",
      "import tables as tb\n",
      "\n",
      "team = [('Flavia',   'Jacquin',   21, True),\n",
      "        ('Michal',   'Ards',       7, True),\n",
      "        ('Madaline', 'Herta',     25, True), \n",
      "        ('Ike',      'Jerding',    3, True),\n",
      "        ('Winford',  'Bergenty',  59, True),\n",
      "        ('Fernanda', 'Leuze',     51, True),\n",
      "        ('Larae',    'Dalaq',     44, False),\n",
      "        ('Ema',      'Czyrnik',   51, True),\n",
      "        ('Britt',    'Housemate', 32, False),\n",
      "        ('Eldridge', 'Lerow',     72, False),\n",
      "        ]"
     ],
     "language": "python",
     "metadata": {},
     "outputs": []
    }
   ],
   "metadata": {}
  }
 ]
}