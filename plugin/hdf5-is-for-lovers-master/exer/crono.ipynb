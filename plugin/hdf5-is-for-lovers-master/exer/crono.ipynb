{
 "metadata": {
  "name": "",
  "signature": "sha256:69f97ed0da2484a2776e844ef1ace562a35fd85087f76fb06f714aaeef879458"
 },
 "nbformat": 3,
 "nbformat_minor": 0,
 "worksheets": [
  {
   "cells": [
    {
     "cell_type": "markdown",
     "metadata": {},
     "source": [
      "**Your friend Crono has been murdered by the mighty demon Lavos!\n",
      "Luckily, you have a time machine, the good ship Epoch.  You and \n",
      "your friends hatch a scheme to save him by replacing him with a \n",
      "doll that looks just like him.**  \n",
      "\n",
      "**Unfortunately Crono had the time machine too and you are not exactly \n",
      "sure when he died.  Thankfully the Epoch's logs keep a record of \n",
      "who visited which time periods.**\n",
      "\n",
      "To save Crono, and foil the plans of Lavos, you must:\n",
      "\n",
      "1. Seach through the ship's log and print all of the times Crono was alive.\n",
      "\n",
      "2. Figure out if you ever left Crono alone, and if so, when?\n",
      "   Write these time out to a separate table with fully reading\n",
      "   the log into memory.\n",
      "\n",
      "3. Send three friends into the fray to help Crono out in \n",
      "   his time of need.\n",
      "\n",
      "4. Who are Crono's best friends?  Who are his worst?  Judge \n",
      "   based on the amount of time they spend with him."
     ]
    },
    {
     "cell_type": "code",
     "collapsed": false,
     "input": [
      "import numpy as np\n",
      "import tables as tb\n",
      "\n",
      "import _epoch_log\n",
      "_epoch_log.make_log()\n",
      "\n",
      "friends = ['marle', 'lucca', 'frog', 'robo', 'ayla', 'magus']\n",
      "\n",
      "f = tb.open_file('epoch_log.h5', 'a')"
     ],
     "language": "python",
     "metadata": {},
     "outputs": []
    },
    {
     "cell_type": "markdown",
     "metadata": {},
     "source": [
      "**1. Seach through the ship's log and print all of the times Crono was alive.**"
     ]
    },
    {
     "cell_type": "code",
     "collapsed": false,
     "input": [],
     "language": "python",
     "metadata": {},
     "outputs": []
    },
    {
     "cell_type": "markdown",
     "metadata": {},
     "source": [
      "**2. Figure out if you ever left Crono alone, and if so, when? \n",
      "Write these time out to a separate table with fully reading\n",
      "the log into memory.**"
     ]
    },
    {
     "cell_type": "code",
     "collapsed": false,
     "input": [],
     "language": "python",
     "metadata": {},
     "outputs": []
    },
    {
     "cell_type": "markdown",
     "metadata": {},
     "source": [
      "**3. Send three friends into the fray to help Crono out in \n",
      "his time of need.**"
     ]
    },
    {
     "cell_type": "code",
     "collapsed": false,
     "input": [],
     "language": "python",
     "metadata": {},
     "outputs": []
    },
    {
     "cell_type": "markdown",
     "metadata": {},
     "source": [
      "**4. Who are Crono's best friends?  Who are his worst?  Judge based on the amount of time they spend with him.**"
     ]
    },
    {
     "cell_type": "code",
     "collapsed": false,
     "input": [],
     "language": "python",
     "metadata": {},
     "outputs": []
    },
    {
     "cell_type": "code",
     "collapsed": false,
     "input": [
      "# remember to close the file\n",
      "f.close()"
     ],
     "language": "python",
     "metadata": {},
     "outputs": []
    }
   ],
   "metadata": {}
  }
 ]
}