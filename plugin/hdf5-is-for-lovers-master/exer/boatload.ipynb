{
 "metadata": {
  "name": "",
  "signature": "sha256:977180e99dbee985f4a01554bb18a6435aecec3058a4919db22f3426241cb451"
 },
 "nbformat": 3,
 "nbformat_minor": 0,
 "worksheets": [
  {
   "cells": [
    {
     "cell_type": "markdown",
     "metadata": {},
     "source": [
      "**Create a metric boatload of random people.  That's right, create a table of 1000 random people on boats.**\n",
      "\n",
      "1. Define the description.  This should include:\n",
      "\n",
      "    * First names\n",
      "    * Last names\n",
      "    * Lattitude and longitude, together\n",
      "    * List of ships which they have sailed on, min 1 but at most 5\n",
      "    * Lost at sea status\n",
      "\n",
      "2. Use the rand_sailor function to write a table of all of these people.\n",
      "\n",
      "3. Resuce patrols are dispatched by quarter.  Using the lattitude and \n",
      "   longitude, create groups representing the NE, NW, SE, and SW and place\n",
      "   smaller tables of just these sailors.\n",
      "\n",
      "4. Rescue patrols also need up to date information on whether a not \n",
      "   a person is lost.  Create two tables (lost & found) in each of the \n",
      "   four directions which approriately elliminate the lost-at-sea status."
     ]
    },
    {
     "cell_type": "code",
     "collapsed": false,
     "input": [
      "import random\n",
      "import numpy as np\n",
      "import tables as tb\n",
      "\n",
      "with open('names.txt', 'r') as f:\n",
      "    names = f.read().split()\n",
      "    first_names = names[::2]\n",
      "    last_names = names[1::2]\n",
      "\n",
      "with open('ships.txt', 'r') as f:\n",
      "    ship_names = [s.strip() for s in f.readlines()]\n",
      "\n",
      "def rand_sailor():\n",
      "    first = random.choice(first_names)\n",
      "    last = random.choice(last_names)\n",
      "    lat_long = np.random.random((2,)) * (180.0, 360.0) - (90.0, 180.0)\n",
      "    num_ships = np.random.random_integers(1,5)\n",
      "    ships = list(np.random.choice(ship_names, num_ships, replace=False))\n",
      "    lost = bool(np.random.random_integers(0,1))\n",
      "    return first, last, lat_long, ships, lost\n",
      "\n",
      "f = tb.open_file('boatload.h5', 'w')"
     ],
     "language": "python",
     "metadata": {},
     "outputs": []
    },
    {
     "cell_type": "markdown",
     "metadata": {},
     "source": [
      "**1. Define the description.  This should include:**\n",
      "\n",
      "- First names\n",
      "- Last names\n",
      "- Lattitude and longitude, together\n",
      "- List of ships which they have sailed on, min 1 but at most 5\n",
      "- Lost at sea status"
     ]
    },
    {
     "cell_type": "code",
     "collapsed": false,
     "input": [
      "max_first_len = max([len(x) for x in first_names])\n",
      "max_last_len = max([len(x) for x in last_names])\n",
      "max_ship_len = max([len(x) for x in ship_names])\n",
      "\n",
      "desc = np.dtype([])"
     ],
     "language": "python",
     "metadata": {},
     "outputs": []
    },
    {
     "cell_type": "markdown",
     "metadata": {},
     "source": [
      "**2. Use the rand_sailor function to write a table of all of these people.**"
     ]
    },
    {
     "cell_type": "code",
     "collapsed": false,
     "input": [],
     "language": "python",
     "metadata": {},
     "outputs": []
    },
    {
     "cell_type": "markdown",
     "metadata": {},
     "source": [
      "**3. Resuce patrols are dispatched by quarter.  Using the lattitude and \n",
      "longitude, create groups representing the NE, NW, SE, and SW and place\n",
      "smaller tables of just these sailors.**"
     ]
    },
    {
     "cell_type": "code",
     "collapsed": false,
     "input": [
      "quads = {'NE': [(0.0, 90.0), (0.0, 180.0)],\n",
      "         'NW': [(0.0, 90.0), (-180.0, 0.0)],\n",
      "         'SE': [(-90.0, 0.0), (0.0, 180.0)],\n",
      "         'SW': [(-90.0, 0.0), (-180.0, 0.0)],\n",
      "        }"
     ],
     "language": "python",
     "metadata": {},
     "outputs": []
    },
    {
     "cell_type": "markdown",
     "metadata": {},
     "source": [
      "**4. Rescue patrols also need up to date information on whether a not  a person is lost.  \n",
      "Create two tables (lost & found) in each of the \n",
      "four directions which approriately elliminate the lost-at-sea status.**"
     ]
    },
    {
     "cell_type": "code",
     "collapsed": false,
     "input": [],
     "language": "python",
     "metadata": {},
     "outputs": []
    },
    {
     "cell_type": "code",
     "collapsed": false,
     "input": [
      "# Remember to always close the file!\n",
      "f.close()"
     ],
     "language": "python",
     "metadata": {},
     "outputs": []
    }
   ],
   "metadata": {}
  }
 ]
}