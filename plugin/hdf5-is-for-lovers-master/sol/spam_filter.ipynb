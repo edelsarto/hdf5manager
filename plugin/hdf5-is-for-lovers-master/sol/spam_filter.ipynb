{
 "metadata": {
  "name": "",
  "signature": "sha256:22de8faefb28b8d96261e0e1ea70fad126f23711e7f2bda311f600b4bb266f3f"
 },
 "nbformat": 3,
 "nbformat_minor": 0,
 "worksheets": [
  {
   "cells": [
    {
     "cell_type": "markdown",
     "metadata": {},
     "source": [
      "**Email today is just the worst.  It seems that 3/4 of time, the message is just \n",
      "total junk while only 25% of emails are actually worthwhile.**\n",
      "\n",
      "**Somehow It is now your job to eliminate all of that spam for everyone at work, \n",
      "leaving behind only the eggy goodness. You suspect compression might be able to\n",
      "aid you in your quest.**\n",
      "\n",
      "1. Create an HDF5 file which contains a single emails array, uncompressed.  \n",
      "   Close this file and use the getsize() function to report the size on disk.\n",
      "   Time how long this took and print that out as well.\n",
      "\n",
      "2. Repeat step 1 but with zlib compression at level 1.\n",
      "\n",
      "3. Repeat step 1 but with blosc compression at level 5.\n",
      "\n",
      "4. You realize that spam is often vacuous.  What if the unwanted elements\n",
      "   weren't already tagged.  Repeat step 1, leaving the data uncompressed\n",
      "   but without filling in spam everywhere.\n",
      "\n",
      "5. Repeat step 4 but with blosc compression at level 5.\n",
      "\n",
      "6. How long does it take to read these arrays in?"
     ]
    },
    {
     "cell_type": "code",
     "collapsed": false,
     "input": [
      "from time import time\n",
      "from os.path import getsize\n",
      "\n",
      "import numpy as np\n",
      "import tables as tb\n",
      "\n",
      "def email_array(num=10000000, rate=0.75, fill=True):\n",
      "    if fill:\n",
      "        emails = np.empty(10000000, 'S4')\n",
      "        emails.fill('spam')\n",
      "    else:\n",
      "        emails = np.array([np.random.bytes(4) for x in range(num)], dtype='S4')\n",
      "    eggind = np.random.randint(0, num, int(num * (1.0 - rate)))\n",
      "    emails[eggind] = 'eggs'\n",
      "    return emails"
     ],
     "language": "python",
     "metadata": {},
     "outputs": [],
     "prompt_number": 1
    },
    {
     "cell_type": "markdown",
     "metadata": {},
     "source": [
      "**1. Create an HDF5 file which contains a single emails array, uncompressed. Close this file and use the getsize() function to report the size on disk.\n",
      "Time how long this took and print that out as well.**"
     ]
    },
    {
     "cell_type": "code",
     "collapsed": false,
     "input": [
      "NUM = 10000000\n",
      "RATE = 0.75\n",
      "emails = email_array(NUM, RATE)\n",
      "\n",
      "t = time()\n",
      "with tb.open_file('uncompressed.h5', 'w') as f:\n",
      "    earray = f.create_earray('/', 'emails', tb.StringAtom(4), (0,), expectedrows=NUM)\n",
      "    earray.append(emails)\n",
      "tdelta = time() - t\n",
      "\n",
      "msg = \"The uncompressed array is {0} bytes and took {1} ms to write.\"\n",
      "print(msg.format(getsize('uncompressed.h5'), tdelta * 1000))"
     ],
     "language": "python",
     "metadata": {},
     "outputs": [
      {
       "output_type": "stream",
       "stream": "stdout",
       "text": [
        "The uncompressed array is 40124424 bytes and took 54.062843322753906 ms to write.\n"
       ]
      }
     ],
     "prompt_number": 2
    },
    {
     "cell_type": "markdown",
     "metadata": {},
     "source": [
      "**2. Repeat step 1 but with zlib compression at level 1.**"
     ]
    },
    {
     "cell_type": "code",
     "collapsed": false,
     "input": [
      "filters = tb.Filters(complib='zlib', complevel=1)\n",
      "\n",
      "t = time()\n",
      "with tb.open_file('zlib1.h5', 'w') as f:\n",
      "    earray = f.create_earray('/', 'emails', tb.StringAtom(4), (0,), \n",
      "                            filters=filters, expectedrows=NUM)\n",
      "    earray.append(emails)\n",
      "tdelta = time() - t\n",
      "\n",
      "msg = \"The zlib1 array is {0} bytes and took {1} ms to write.\"\n",
      "print(msg.format(getsize('zlib1.h5'), tdelta * 1000))"
     ],
     "language": "python",
     "metadata": {},
     "outputs": [
      {
       "output_type": "stream",
       "stream": "stdout",
       "text": [
        "The zlib1 array is 7958880 bytes and took 616.2114143371582 ms to write.\n"
       ]
      }
     ],
     "prompt_number": 3
    },
    {
     "cell_type": "markdown",
     "metadata": {},
     "source": [
      "**3. Repeat step 1 but with blosc compression at level 5.**"
     ]
    },
    {
     "cell_type": "code",
     "collapsed": false,
     "input": [
      "filters = tb.Filters(complib='blosc', complevel=5)\n",
      "\n",
      "t = time()\n",
      "with tb.open_file('blosc5.h5', 'w') as f:\n",
      "    earray = f.create_earray('/', 'emails', tb.StringAtom(4), (0,), \n",
      "                            filters=filters, expectedrows=NUM)\n",
      "    earray.append(emails)\n",
      "tdelta = time() - t\n",
      "\n",
      "msg = \"The blosc5 array is {0} bytes and took {1} ms to write.\"\n",
      "print(msg.format(getsize('blosc5.h5'), tdelta * 1000))"
     ],
     "language": "python",
     "metadata": {},
     "outputs": [
      {
       "output_type": "stream",
       "stream": "stdout",
       "text": [
        "The blosc5 array is 16222216 bytes and took 305.4819107055664 ms to write.\n"
       ]
      }
     ],
     "prompt_number": 4
    },
    {
     "cell_type": "markdown",
     "metadata": {},
     "source": [
      "**4. You realize that spam is often vacuous.  What if the unwanted elements\n",
      "weren't already tagged.  Repeat step 1, leaving the data uncompressed\n",
      "but without filling in spam everywhere.**"
     ]
    },
    {
     "cell_type": "code",
     "collapsed": false,
     "input": [
      "emails = email_array(NUM, RATE, False)\n",
      "\n",
      "t = time()\n",
      "with tb.open_file('unfilled.h5', 'w') as f:\n",
      "    earray = f.create_earray('/', 'emails', tb.StringAtom(4), (0,), expectedrows=NUM)\n",
      "    earray.append(emails)\n",
      "tdelta = time() - t\n",
      "\n",
      "msg = \"The unfilled array is {0} bytes and took {1} ms to write.\"\n",
      "print(msg.format(getsize('unfilled.h5'), tdelta * 1000))"
     ],
     "language": "python",
     "metadata": {},
     "outputs": [
      {
       "output_type": "stream",
       "stream": "stdout",
       "text": [
        "The unfilled array is 40124424 bytes and took 53.35521697998047 ms to write.\n"
       ]
      }
     ],
     "prompt_number": 5
    },
    {
     "cell_type": "markdown",
     "metadata": {},
     "source": [
      "**5. Repeat step 4 but with blosc compression at level 5.**"
     ]
    },
    {
     "cell_type": "code",
     "collapsed": false,
     "input": [
      "filters = tb.Filters(complib='blosc', complevel=5)\n",
      "\n",
      "t = time()\n",
      "with tb.open_file('blosc5_unfilled.h5', 'w') as f:\n",
      "    earray = f.create_earray('/', 'emails', tb.StringAtom(4), (0,), \n",
      "                            filters=filters, expectedrows=NUM)\n",
      "    earray.append(emails)\n",
      "tdelta = time() - t\n",
      "\n",
      "msg = \"The blosc5_unfilled array is {0} bytes and took {1} ms to write.\"\n",
      "print(msg.format(getsize('blosc5_unfilled.h5'), tdelta * 1000))"
     ],
     "language": "python",
     "metadata": {},
     "outputs": [
      {
       "output_type": "stream",
       "stream": "stdout",
       "text": [
        "The blosc5_unfilled array is 40026796 bytes and took 343.8436985015869 ms to write.\n"
       ]
      }
     ],
     "prompt_number": 6
    },
    {
     "cell_type": "markdown",
     "metadata": {},
     "source": [
      "**6. How long does it take to read this data in?**"
     ]
    },
    {
     "cell_type": "code",
     "collapsed": false,
     "input": [
      "files = ['uncompressed.h5', 'zlib1.h5', 'blosc5.h5', 'unfilled.h5', 'blosc5_unfilled.h5']\n",
      "for file in files:\n",
      "    t = time()\n",
      "    with tb.open_file(file, 'r') as f:\n",
      "        emails = f.root.emails[:]\n",
      "    tdelta = time() - t\n",
      "\n",
      "    msg = \"The {0} file took {1} ms to read.\"\n",
      "    print(msg.format(file, tdelta * 1000))"
     ],
     "language": "python",
     "metadata": {},
     "outputs": [
      {
       "output_type": "stream",
       "stream": "stdout",
       "text": [
        "The uncompressed.h5 file took 834.0620994567871 ms to read.\n",
        "The zlib1.h5 file took 282.7024459838867 ms to read."
       ]
      },
      {
       "output_type": "stream",
       "stream": "stdout",
       "text": [
        "\n",
        "The blosc5.h5 file took 248.40903282165527 ms to read."
       ]
      },
      {
       "output_type": "stream",
       "stream": "stdout",
       "text": [
        "\n",
        "The unfilled.h5 file took 39.20626640319824 ms to read.\n",
        "The blosc5_unfilled.h5 file took 31.711578369140625 ms to read."
       ]
      },
      {
       "output_type": "stream",
       "stream": "stdout",
       "text": [
        "\n"
       ]
      }
     ],
     "prompt_number": 7
    }
   ],
   "metadata": {}
  }
 ]
}